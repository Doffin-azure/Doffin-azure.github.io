{
 "cells": [
  {
   "cell_type": "code",
   "execution_count": null,
   "id": "a0e7e03d",
   "metadata": {},
   "outputs": [
    {
     "ename": "SyntaxError",
     "evalue": "(unicode error) 'unicodeescape' codec can't decode bytes in position 131-132: truncated \\xXX escape (3468146493.py, line 5)",
     "output_type": "error",
     "traceback": [
      "\u001b[1;36m  Cell \u001b[1;32mIn[1], line 5\u001b[1;36m\u001b[0m\n\u001b[1;33m    '''\u001b[0m\n\u001b[1;37m    ^\u001b[0m\n\u001b[1;31mSyntaxError\u001b[0m\u001b[1;31m:\u001b[0m (unicode error) 'unicodeescape' codec can't decode bytes in position 131-132: truncated \\xXX escape\n"
     ]
    }
   ],
   "source": [
    "import os\n",
    "import re\n",
    "\n",
    "\n",
    "def replace_image_paths_in_md(file_path):\n",
    "    \"\"\"\n",
    "    This function reads a markdown file, finds all instances of ![[xxx]]\n",
    "    and replaces them with ![Image][..\\\\assets\\\\post_figure\\\\xxx]\n",
    "    \"\"\"\n",
    "    # Define the regex pattern to match ![[xxx]]\n",
    "    pattern = r\"!\\[\\[(.*?)\\]\\]\"\n",
    "\n",
    "    # Open the file and read the content\n",
    "    with open(file_path, \"r\", encoding=\"utf-8\") as file:\n",
    "        content = file.read()\n",
    "\n",
    "    # Replace all matches of the pattern\n",
    "    # Use raw string (r'') for the path to avoid unicodeescape errors\n",
    "    modified_content = re.sub(\n",
    "        pattern, r\"![Image][..\\\\assets\\\\post_figure\\\\\\1]\", content\n",
    "    )\n",
    "\n",
    "    # Save the modified content back to the file\n",
    "    with open(file_path, \"w\", encoding=\"utf-8\") as file:\n",
    "        file.write(modified_content)\n",
    "\n",
    "    print(f\"File '{file_path}' updated successfully!\")\n",
    "\n",
    "\n",
    "def update_all_md_files_in_directory(directory):\n",
    "    \"\"\"\n",
    "    This function goes through all .md files in the given directory and updates image paths.\n",
    "    \"\"\"\n",
    "    # Loop through all files in the directory\n",
    "    for root, _, files in os.walk(directory):\n",
    "        for file in files:\n",
    "            if file.endswith(\".md\"):\n",
    "                file_path = os.path.join(root, file)\n",
    "                replace_image_paths_in_md(file_path)\n",
    "\n",
    "\n",
    "if __name__ == \"__main__\":\n",
    "    # Ask user to input the directory where markdown files are located\n",
    "    markdown_directory = input(\n",
    "        \"Please enter the directory path for the markdown files: \"\n",
    "    )\n",
    "\n",
    "    # Ensure the directory exists\n",
    "    if os.path.isdir(markdown_directory):\n",
    "        update_all_md_files_in_directory(markdown_directory)\n",
    "    else:\n",
    "        print(\n",
    "            f\"The directory '{markdown_directory}' does not exist. Please check the path and try again.\"\n",
    "        )"
   ]
  }
 ],
 "metadata": {
  "kernelspec": {
   "display_name": "myenv1",
   "language": "python",
   "name": "python3"
  },
  "language_info": {
   "codemirror_mode": {
    "name": "ipython",
    "version": 3
   },
   "file_extension": ".py",
   "mimetype": "text/x-python",
   "name": "python",
   "nbconvert_exporter": "python",
   "pygments_lexer": "ipython3",
   "version": "3.12.4"
  }
 },
 "nbformat": 4,
 "nbformat_minor": 5
}
